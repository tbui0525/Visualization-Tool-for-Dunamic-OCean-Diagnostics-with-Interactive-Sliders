{
 "cells": [
  {
   "cell_type": "code",
   "execution_count": 1,
   "id": "bd9512a8",
   "metadata": {},
   "outputs": [],
   "source": [
    "import numpy as np\n",
    "import netCDF4 as nc\n",
    "from netCDF4 import Dataset\n",
    "import matplotlib.pyplot as plt\n",
    "from ipywidgets import interact, interactive, fixed, interact_manual\n",
    "from ipywidgets.embed import embed_minimal_html\n",
    "import ipywidgets as widgets\n",
    "import os\n",
    "os.environ[\"PROJ_LIB\"] = \"C:\\\\Utilities\\\\Python\\\\Anaconda\\\\Library\\\\share\"; #fixr\n",
    "from mpl_toolkits.basemap import Basemap\n",
    "import requests"
   ]
  },
  {
   "cell_type": "code",
   "execution_count": 2,
   "id": "5c70084c",
   "metadata": {},
   "outputs": [],
   "source": [
    "months = ['Jan', 'Feb', 'Mar', 'Apr', 'May', 'Jun', 'Jul', 'Aug','Sep', 'Oct', 'Nov', 'Dec']"
   ]
  },
  {
   "cell_type": "code",
   "execution_count": 4,
   "id": "b99d864e",
   "metadata": {
    "scrolled": false
   },
   "outputs": [
    {
     "data": {
      "text/plain": [
       "array([1980, 1981, 1982, 1983, 1984, 1985, 1986, 1987, 1988, 1989, 1990,\n",
       "       1991, 1992, 1993, 1994, 1995, 1996, 1997, 1998, 1999, 2000, 2001,\n",
       "       2002, 2003, 2004, 2005, 2006, 2007, 2008, 2009, 2010, 2011, 2012,\n",
       "       2013, 2014, 2015, 2016, 2017, 2018, 2019, 2020])"
      ]
     },
     "execution_count": 4,
     "metadata": {},
     "output_type": "execute_result"
    }
   ],
   "source": [
    "years = np.arange(1980,2021)\n",
    "years"
   ]
  },
  {
   "cell_type": "markdown",
   "id": "16e7f671",
   "metadata": {},
   "source": [
    "Downloading Data for salinity and potential temperature"
   ]
  },
  {
   "cell_type": "code",
   "execution_count": 7,
   "id": "bad5ab27",
   "metadata": {},
   "outputs": [],
   "source": [
    "for year in years:\n",
    "    url = 'https://downloads.psl.noaa.gov/Datasets/godas/salt.'+str(year)+'.nc'\n",
    "    r = requests.get(url, allow_redirects = True)\n",
    "    open('salt.'+str(year)+'.nc', 'wb').write(r.content)"
   ]
  },
  {
   "cell_type": "code",
   "execution_count": null,
   "id": "25a7d5d2",
   "metadata": {},
   "outputs": [],
   "source": [
    "for year in years:\n",
    "    url = 'https://downloads.psl.noaa.gov/Datasets/godas/pottmp.'+str(year)+'.nc'\n",
    "    r = requests.get(url, allow_redirects = True)\n",
    "    open('pottmp.'+str(year)+'.nc', 'wb').write(r.content)"
   ]
  },
  {
   "cell_type": "markdown",
   "id": "3ae968db",
   "metadata": {},
   "source": [
    "visualization"
   ]
  },
  {
   "cell_type": "code",
   "execution_count": 8,
   "id": "ebe2442a",
   "metadata": {},
   "outputs": [],
   "source": [
    "os.chdir('C:/Users/tbui0')"
   ]
  },
  {
   "cell_type": "code",
   "execution_count": 23,
   "id": "eb827f12",
   "metadata": {},
   "outputs": [],
   "source": [
    "st = np.array([['Pottmps', 'pottmp'],['Salinity', 'salt']])"
   ]
  },
  {
   "cell_type": "code",
   "execution_count": 30,
   "id": "f177c4a4",
   "metadata": {},
   "outputs": [
    {
     "data": {
      "application/vnd.jupyter.widget-view+json": {
       "model_id": "6a0584f538904716ae3eaa40a58cde83",
       "version_major": 2,
       "version_minor": 0
      },
      "text/plain": [
       "interactive(children=(IntSlider(value=0, description='ts', max=1), IntSlider(value=2000, description='year', m…"
      ]
     },
     "metadata": {},
     "output_type": "display_data"
    }
   ],
   "source": [
    "def f(ts, year, month, depth):\n",
    "    file = nc.Dataset('Yearly ' + st[ts,0] + '/'+st[ts,1]+'.'+ str(year)+'.nc')\n",
    "    data = file.variables[st[ts,1]][:]\n",
    "    lon = file.variables['lon'][:]\n",
    "    lat = file.variables['lat'][:]\n",
    "    depths = file.variables['level'][:]\n",
    "    xx,yy = np.meshgrid(lon,lat)\n",
    "    ig = plt.figure(figsize =(20,8))\n",
    "    m = Basemap(projection = 'cyl', lat_ts = 10, llcrnrlon = 0, urcrnrlon = 360, llcrnrlat = -90, urcrnrlat = 90)\n",
    "    m.pcolormesh(xx,yy, data[month-1, depth-1 ], shading = 'auto', cmap = 'jet')\n",
    "    m.colorbar(location = 'right')\n",
    "    m.drawcoastlines()\n",
    "    m.drawmapboundary()\n",
    "    m.drawparallels(np.arange(-90,90,30), labels = [1,0,0,0])\n",
    "    m.drawmeridians(np.arange(-180,180,60), labels = [0,0,0,1])\n",
    "    plt.title(months[month-1]+ ' ' +str(int(year))+ ' '+st[ts,1] + ' at ' + str(depths[depth-1]) +'m.', size = 20)\n",
    "interactive(f, ts = (0,1), year = (1980,2020), month = (1,12), depth = (1,40))\n",
    "    "
   ]
  }
 ],
 "metadata": {
  "kernelspec": {
   "display_name": "Python 3 (ipykernel)",
   "language": "python",
   "name": "python3"
  },
  "language_info": {
   "codemirror_mode": {
    "name": "ipython",
    "version": 3
   },
   "file_extension": ".py",
   "mimetype": "text/x-python",
   "name": "python",
   "nbconvert_exporter": "python",
   "pygments_lexer": "ipython3",
   "version": "3.9.7"
  }
 },
 "nbformat": 4,
 "nbformat_minor": 5
}
